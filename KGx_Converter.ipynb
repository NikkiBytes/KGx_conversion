{
 "cells": [
  {
   "cell_type": "markdown",
   "metadata": {},
   "source": [
    "# KGx Converter Draft  \n",
    "Steps to build KGx file:  \n",
    "1. Get Biolink Mapping  \n",
    "2. Get SmartAPI edges  \n",
    "3. Get Corresponding Biothings APIs  \n",
    "4. Format Nodes and Edges  \n",
    "5. Write to output files (.tsv, .json, etc) "
   ]
  },
  {
   "cell_type": "markdown",
   "metadata": {},
   "source": [
    "## Biolink mapping"
   ]
  },
  {
   "cell_type": "markdown",
   "metadata": {},
   "source": [
    "Infer from prefix using biolink package?"
   ]
  },
  {
   "cell_type": "code",
   "execution_count": null,
   "metadata": {},
   "outputs": [],
   "source": [
    "from bmt import Toolkit\n",
    "\n",
    "toolkit = Toolkit()\n",
    "\n",
    "def infer_category_from_curie(subject_id):\n",
    "    prefix = subject_id.split(\":\")[0]\n",
    "    mappings = toolkit.get_prefixes_by_category()\n",
    "\n",
    "    for category, prefixes in mappings.items():\n",
    "        if prefix.lower() in [p.lower() for p in prefixes]:\n",
    "            return category\n",
    "    return \"biolink:NamedThing\"  # fallback"
   ]
  },
  {
   "cell_type": "code",
   "execution_count": null,
   "metadata": {},
   "outputs": [],
   "source": [
    "def is_valid_biolink_category(category):\n",
    "    return toolkit.get_class(category) is not None\n"
   ]
  },
  {
   "cell_type": "markdown",
   "metadata": {},
   "source": [
    "## SmartAPI Edges  \n",
    "Using the `/metakg&consolidated=0` endpoint we can get the starting data and  prefixs"
   ]
  },
  {
   "cell_type": "code",
   "execution_count": null,
   "metadata": {},
   "outputs": [],
   "source": [
    "def get_smartapi_data(data, api_name, biolink_mapping, node_set, edge_list):\n",
    "    for hit in data[\"hits\"]:\n",
    "        # set node and edge data \n",
    "        # use node to get biothings data\n",
    "    # return edge and node full data"
   ]
  },
  {
   "cell_type": "markdown",
   "metadata": {},
   "source": [
    "## Biothings APIs"
   ]
  },
  {
   "cell_type": "markdown",
   "metadata": {},
   "source": [
    "## 🧪 BioThings Data Fetcher\n",
    "- Query BioThings APIs with GIVEN API names (*etc?*)\n",
    "\n",
    "- Parse results to get:\n",
    "\n",
    "    - Input NODE (e.g., gene)\n",
    "\n",
    "    - Output NODE (e.g., drug)\n",
    "\n",
    "    - Optional label fields\n",
    "\n",
    "- Respect input/output semantic types"
   ]
  },
  {
   "cell_type": "code",
   "execution_count": null,
   "metadata": {},
   "outputs": [],
   "source": [
    "def get_biothings_api(subject_id, node_dict, node_set):\n",
    "     # set query for specific node data\n",
    "\n",
    "     for i, data in enumerate(tqdm(client.query(q=bt_query, fetch_all=True))): \n",
    "          # get node name and data\n",
    "    #return node data"
   ]
  },
  {
   "cell_type": "code",
   "execution_count": null,
   "metadata": {},
   "outputs": [],
   "source": []
  },
  {
   "cell_type": "markdown",
   "metadata": {},
   "source": [
    "## Biolink Mapping (#bl-map) "
   ]
  },
  {
   "cell_type": "code",
   "execution_count": 1,
   "metadata": {},
   "outputs": [],
   "source": [
    "from bmt import Toolkit\n",
    "BMT = Toolkit()"
   ]
  },
  {
   "cell_type": "code",
   "execution_count": 90,
   "metadata": {},
   "outputs": [],
   "source": [
    "def create_biolink_mappings(data):\n",
    "    \"\"\"\n",
    "    Create Biolink mappings from the given data.\n",
    "    \"\"\"\n",
    "    # Initialize the dictionary for entity mappings and set for unique prefixes\n",
    "    node_mappings = {}\n",
    "    edge_mappings = {}\n",
    "    \n",
    "\n",
    "    try:\n",
    "        # Loop over the hits and extract the relevant prefixes\n",
    "        for hit in data['hits']:  # Use .get() to avoid KeyError if \"hits\" is missing\n",
    "            subject, object_ = hit['subject'], hit['object']\n",
    "            subject_prefix, object_prefix = hit[\"subject_prefix\"], hit[\"object_prefix\"]\n",
    "            s_uri = BMT.get_element(subject)\n",
    "            s_uri = s_uri[\"class_uri\"]\n",
    "            o_uri = BMT.get_element(object_)\n",
    "            o_uri = o_uri[\"class_uri\"]\n",
    "            predicate = hit[\"predicate\"]\n",
    "            pred_element = BMT.get_element(predicate)\n",
    "            if pred_element:\n",
    "                bl_uri = pred_element[\"slot_uri\"]\n",
    "                if bl_uri not in edge_mappings:\n",
    "                    edge_mappings[bl_uri] = {\n",
    "                        \"to\":[o_uri],\n",
    "                        \"from\": [s_uri]\n",
    "                    }\n",
    "                else:\n",
    "                    edge_mappings[bl_uri][\"to\"].append(o_uri)\n",
    "                    edge_mappings[bl_uri][\"to\"] = list({str(uri) for uri in edge_mappings[bl_uri][\"to\"]})\n",
    "                    edge_mappings[bl_uri][\"from\"].append(s_uri)\n",
    "                    edge_mappings[bl_uri][\"from\"] = list({str(uri) for uri in edge_mappings[bl_uri][\"from\"]})\n",
    "                    \n",
    "            # Navigate to the \"response_mapping\" key\n",
    "            response_mapping = hit.get(\"api\", {}).get(\"bte\", {}).get(\"response_mapping\", {})\n",
    "            s_ref = hit[\"api\"][\"bte\"][\"query_operation\"][\"request_body\"][\"body\"][\"scopes\"]\n",
    "\n",
    "            # Extract the first key-value pair from response_mapping if it's a dictionary\n",
    "            o_ref = None\n",
    "            for key, value in response_mapping.items():\n",
    "                if isinstance(value, dict) and (first_key := next(iter(value), None)) == object_prefix:\n",
    "                    o_ref = value[first_key]\n",
    "                    break  # Exit loop once the match is found\n",
    "\n",
    "            # Loop through subject and object to populate entity_mappings\n",
    "            for match, prefix, ref in [(subject, subject_prefix, s_ref), (object_, object_prefix, o_ref)]:\n",
    "                if match in node_mappings:\n",
    "                    continue  # Skip if already processed\n",
    "\n",
    "                # Retrieve Biolink element and populate entity_mappings\n",
    "                if bl_element := BMT.get_element(match):  # Use walrus operator to assign and check\n",
    "                    node_mappings[match] = {\n",
    "                        \"class_uri\": bl_element[\"class_uri\"],\n",
    "                        \"prefix\": prefix,\n",
    "                        \"identifier\": ref,\n",
    "                    }\n",
    "\n",
    "        # Print the results\n",
    "        print(f\"Unique mappings: {len(node_mappings)}\")\n",
    "        return node_mappings, edge_mappings\n",
    "\n",
    "    except KeyError as e:\n",
    "        print(f\"Error: Missing key in data - {e}\")\n",
    "        return {}"
   ]
  },
  {
   "cell_type": "code",
   "execution_count": 71,
   "metadata": {},
   "outputs": [
    {
     "data": {
      "text/plain": [
       "SlotDefinition({\n",
       "  'name': 'affects',\n",
       "  'annotations': {'canonical_predicate': Annotation(tag='canonical_predicate',\n",
       "                                      value=True,\n",
       "                                      extensions={},\n",
       "                                      annotations={})},\n",
       "  'description': ('Describes an entity that has an effect on the state or quality of another '\n",
       "     'existing entity.'),\n",
       "  'notes': [\"Use of the 'affects' predicate implies that the affected entity already \"\n",
       "    \"exists, unlike predicates such as 'affects likelihood of' and 'prevents' \"\n",
       "    'where the effect concerns whether or when something may or may not come into '\n",
       "    'existence.'],\n",
       "  'in_subset': ['translator_minimal'],\n",
       "  'from_schema': 'https://w3id.org/biolink/biolink-model',\n",
       "  'exact_mappings': ['SEMMEDDB:AFFECTS', 'DGIdb:affects'],\n",
       "  'related_mappings': ['DRUGBANK:pathway'],\n",
       "  'narrow_mappings': ['CTD:prediction_hypothesis', 'GOREL:0001006', 'CTD:inferred', 'UPHENO:0000001',\n",
       "    'RO:0002263', 'RO:0002264', 'NCIT:R158', 'NCIT:R160', 'NCIT:R30', 'NCIT:R150',\n",
       "    'NCIT:R72', 'NCIT:R146', 'NCIT:R124', 'NCIT:R173', 'NCIT:R100', 'NCIT:R102',\n",
       "    'NCIT:R101', 'NCIT:R113', 'NCIT:R23', 'NCIT:R25', 'NCIT:gene_mapped_to_disease',\n",
       "    'NCIT:R133', 'RO:0002343', 'RO:0002355', 'RO:0002591', 'RO:0002592',\n",
       "    'RO:0012003', 'SNOMED:has_pathological_process', 'UBERGRAPH:is_increase_of',\n",
       "    'UBERGRAPH:is_decrease_of'],\n",
       "  'is_a': 'related to at instance level',\n",
       "  'slot_uri': 'biolink:affects'\n",
       "})"
      ]
     },
     "execution_count": 71,
     "metadata": {},
     "output_type": "execute_result"
    }
   ],
   "source": [
    "BMT.get_element(\"affects\")"
   ]
  },
  {
   "cell_type": "markdown",
   "metadata": {},
   "source": []
  },
  {
   "cell_type": "code",
   "execution_count": 59,
   "metadata": {},
   "outputs": [],
   "source": [
    "import requests\n",
    "import pprint"
   ]
  },
  {
   "cell_type": "code",
   "execution_count": 86,
   "metadata": {},
   "outputs": [],
   "source": [
    "api_name = \"dgidb\"\n",
    "subject = \"SmallMolecule\"\n",
    "# client = biothings_client.get_client(\"gene\", url=f\"https://biothings.ci.transltr.io/{api_name}\")\n",
    "url = \"https://smart-api.info/api/metakg/?q=api.smartapi.id:e3edd325c76f2992a111b43a907a4870&bte=1&consolidated=0&subject=%22SmallMolecule%22&size=100\"\n",
    "response = requests.get(url)\n",
    "data = response.json()"
   ]
  },
  {
   "cell_type": "code",
   "execution_count": 91,
   "metadata": {},
   "outputs": [
    {
     "name": "stdout",
     "output_type": "stream",
     "text": [
      "Unique mappings: 2\n"
     ]
    },
    {
     "data": {
      "text/plain": [
       "({'Gene': {'class_uri': 'biolink:Gene',\n",
       "   'prefix': 'NCBIGene',\n",
       "   'identifier': 'entrezgene'},\n",
       "  'Disease': {'class_uri': 'biolink:Disease',\n",
       "   'prefix': 'orphanet',\n",
       "   'identifier': 'raresource.disease.orphanet'}},\n",
       " {'biolink:gene_associated_with_condition': {'to': ['biolink:Disease'],\n",
       "   'from': ['biolink:Gene']},\n",
       "  'biolink:condition_associated_with_gene': {'to': ['biolink:Gene'],\n",
       "   'from': ['biolink:Disease']}})"
      ]
     },
     "execution_count": 91,
     "metadata": {},
     "output_type": "execute_result"
    }
   ],
   "source": [
    "create_biolink_mappings(data)"
   ]
  },
  {
   "cell_type": "code",
   "execution_count": 88,
   "metadata": {},
   "outputs": [
    {
     "name": "stdout",
     "output_type": "stream",
     "text": [
      "https://smart-api.info/api/metakg/?q=api.smartapi.id:b772ebfbfa536bba37764d7fddb11d6f&bte=1&consolidated=0&size=100\n"
     ]
    }
   ],
   "source": [
    "api_name = \"rare_source\"\n",
    "api_id = \"b772ebfbfa536bba37764d7fddb11d6f\"\n",
    "# client = biothings_client.get_client(\"gene\", url=f\"https://biothings.ci.transltr.io/{api_name}\")\n",
    "url = f\"https://smart-api.info/api/metakg/?q=api.smartapi.id:{api_id}&bte=1&consolidated=0&size=100\"\n",
    "print(url)\n",
    "response = requests.get(url)\n",
    "data = response.json()\n",
    "BMT = Toolkit()"
   ]
  },
  {
   "cell_type": "code",
   "execution_count": 92,
   "metadata": {},
   "outputs": [
    {
     "name": "stdout",
     "output_type": "stream",
     "text": [
      "Unique mappings: 2\n"
     ]
    },
    {
     "data": {
      "text/plain": [
       "({'Gene': {'class_uri': 'biolink:Gene',\n",
       "   'prefix': 'NCBIGene',\n",
       "   'identifier': 'entrezgene'},\n",
       "  'Disease': {'class_uri': 'biolink:Disease',\n",
       "   'prefix': 'orphanet',\n",
       "   'identifier': 'raresource.disease.orphanet'}},\n",
       " {'biolink:gene_associated_with_condition': {'to': ['biolink:Disease'],\n",
       "   'from': ['biolink:Gene']},\n",
       "  'biolink:condition_associated_with_gene': {'to': ['biolink:Gene'],\n",
       "   'from': ['biolink:Disease']}})"
      ]
     },
     "execution_count": 92,
     "metadata": {},
     "output_type": "execute_result"
    }
   ],
   "source": [
    "create_biolink_mappings(data)"
   ]
  },
  {
   "cell_type": "markdown",
   "metadata": {},
   "source": [
    "---"
   ]
  },
  {
   "cell_type": "markdown",
   "metadata": {},
   "source": [
    "## Biothings API traversal"
   ]
  },
  {
   "cell_type": "markdown",
   "metadata": {},
   "source": [
    "bt_client = "
   ]
  },
  {
   "cell_type": "code",
   "execution_count": null,
   "metadata": {},
   "outputs": [],
   "source": [
    "def get_biothings_api(subject_id, node_dict, node_data):\n",
    "    for data in tqdm(client.query(q=\"__all__\", fields=\"object,subject,predicate\", fetch_all=True)):\n",
    "\n",
    "    # if \"NCBIGene\" in subject_id:\n",
    "    #     query_term = f\"entrezgene:{subject_id.split(':')[1]}\"\n",
    "    # elif \"orphanet\" in subject_id:\n",
    "    #     query_term = f\"raresource.disease.orphanet:{subject_id.split(':')[1]}\"\n",
    "\n",
    "    # bt_data = []\n",
    "\n",
    "    # for data in tqdm(client.query(q=query_term, fetch_all=True)):\n",
    "    #     if \"NCBIGene\" in subject_id:\n",
    "    #         node_name = data[\"description\"]\n",
    "    #     elif \"orphanet\" in subject_id:\n",
    "    #         for data_dict in data[\"raresource\"][\"disease\"]:\n",
    "    #             if \"orphanet\" in data_dict and data_dict[\"orphanet\"] == subject_id.split(\":\")[1]:\n",
    "    #                 node_name = f'ORPHA:{data_dict[\"orphanet\"]}'\n",
    "    #                 break\n",
    "\n",
    "    #     node = {\n",
    "    #         \"id\": subject_id,\n",
    "    #         \"name\": node_name,\n",
    "    #         \"category\": node_dict\n",
    "    #     }\n",
    "\n",
    "    #     node_data[subject_id] = node\n",
    "\n",
    "    # return node_data"
   ]
  },
  {
   "cell_type": "code",
   "execution_count": null,
   "metadata": {},
   "outputs": [],
   "source": [
    "api_name = \"rare_source\"\n",
    "api_id = \"b772ebfbfa536bba37764d7fddb11d6f\"\n",
    "client = biothings_client.get_client(url=f\"https://biothings.ci.transltr.io/{api_name}\")\n",
    "url = f\"https://smart-api.info/api/metakg/?q=api.smartapi.id:{api_id}&bte=1&consolidated=0&size=100\"\n",
    "print(url)\n",
    "response = requests.get(url)\n",
    "data = response.json()\n",
    "BMT = Toolkit()"
   ]
  }
 ],
 "metadata": {
  "kernelspec": {
   "display_name": "Python 3",
   "language": "python",
   "name": "python3"
  },
  "language_info": {
   "codemirror_mode": {
    "name": "ipython",
    "version": 3
   },
   "file_extension": ".py",
   "mimetype": "text/x-python",
   "name": "python",
   "nbconvert_exporter": "python",
   "pygments_lexer": "ipython3",
   "version": "3.10.0"
  }
 },
 "nbformat": 4,
 "nbformat_minor": 2
}
